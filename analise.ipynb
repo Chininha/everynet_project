{
 "cells": [
  {
   "cell_type": "code",
   "execution_count": 1,
   "metadata": {},
   "outputs": [],
   "source": [
    "import pandas as pd"
   ]
  },
  {
   "cell_type": "code",
   "execution_count": 2,
   "metadata": {},
   "outputs": [],
   "source": [
    "df = pd.read_excel('Device_info.xlsx')"
   ]
  },
  {
   "cell_type": "code",
   "execution_count": 4,
   "metadata": {},
   "outputs": [],
   "source": [
    "df.drop(columns=['Unnamed: 0'], inplace=True)"
   ]
  },
  {
   "cell_type": "code",
   "execution_count": 7,
   "metadata": {},
   "outputs": [],
   "source": [
    "df.set_index(keys=[0], inplace=True)"
   ]
  },
  {
   "cell_type": "code",
   "execution_count": 10,
   "metadata": {},
   "outputs": [
    {
     "data": {
      "text/html": [
       "<div>\n",
       "<style scoped>\n",
       "    .dataframe tbody tr th:only-of-type {\n",
       "        vertical-align: middle;\n",
       "    }\n",
       "\n",
       "    .dataframe tbody tr th {\n",
       "        vertical-align: top;\n",
       "    }\n",
       "\n",
       "    .dataframe thead th {\n",
       "        text-align: right;\n",
       "    }\n",
       "</style>\n",
       "<table border=\"1\" class=\"dataframe\">\n",
       "  <thead>\n",
       "    <tr style=\"text-align: right;\">\n",
       "      <th></th>\n",
       "      <th>1</th>\n",
       "    </tr>\n",
       "    <tr>\n",
       "      <th>0</th>\n",
       "      <th></th>\n",
       "    </tr>\n",
       "  </thead>\n",
       "  <tbody>\n",
       "    <tr>\n",
       "      <th>meta</th>\n",
       "      <td>{'network': '3e6238745fa947a8a59b76cc79892688'...</td>\n",
       "    </tr>\n",
       "    <tr>\n",
       "      <th>network</th>\n",
       "      <td>3e6238745fa947a8a59b76cc79892688</td>\n",
       "    </tr>\n",
       "    <tr>\n",
       "      <th>packet_hash</th>\n",
       "      <td>e18c8476cdfd2a6239275b01dcb75d18</td>\n",
       "    </tr>\n",
       "    <tr>\n",
       "      <th>application</th>\n",
       "      <td>1111111111111111</td>\n",
       "    </tr>\n",
       "    <tr>\n",
       "      <th>device_addr</th>\n",
       "      <td>057c6568</td>\n",
       "    </tr>\n",
       "    <tr>\n",
       "      <th>...</th>\n",
       "      <td>...</td>\n",
       "    </tr>\n",
       "    <tr>\n",
       "      <th>counter_up</th>\n",
       "      <td>1</td>\n",
       "    </tr>\n",
       "    <tr>\n",
       "      <th>port</th>\n",
       "      <td>3</td>\n",
       "    </tr>\n",
       "    <tr>\n",
       "      <th>encrypted_payload</th>\n",
       "      <td>lGlicncqHsQk9xSzjOM=</td>\n",
       "    </tr>\n",
       "    <tr>\n",
       "      <th>id</th>\n",
       "      <td>1693937162032-3</td>\n",
       "    </tr>\n",
       "    <tr>\n",
       "      <th>type</th>\n",
       "      <td>uplink</td>\n",
       "    </tr>\n",
       "  </tbody>\n",
       "</table>\n",
       "<p>89 rows × 1 columns</p>\n",
       "</div>"
      ],
      "text/plain": [
       "                                                                   1\n",
       "0                                                                   \n",
       "meta               {'network': '3e6238745fa947a8a59b76cc79892688'...\n",
       "network                             3e6238745fa947a8a59b76cc79892688\n",
       "packet_hash                         e18c8476cdfd2a6239275b01dcb75d18\n",
       "application                                         1111111111111111\n",
       "device_addr                                                 057c6568\n",
       "...                                                              ...\n",
       "counter_up                                                         1\n",
       "port                                                               3\n",
       "encrypted_payload                               lGlicncqHsQk9xSzjOM=\n",
       "id                                                   1693937162032-3\n",
       "type                                                          uplink\n",
       "\n",
       "[89 rows x 1 columns]"
      ]
     },
     "execution_count": 10,
     "metadata": {},
     "output_type": "execute_result"
    }
   ],
   "source": [
    "df"
   ]
  },
  {
   "cell_type": "code",
   "execution_count": 9,
   "metadata": {},
   "outputs": [
    {
     "data": {
      "text/html": [
       "<div>\n",
       "<style scoped>\n",
       "    .dataframe tbody tr th:only-of-type {\n",
       "        vertical-align: middle;\n",
       "    }\n",
       "\n",
       "    .dataframe tbody tr th {\n",
       "        vertical-align: top;\n",
       "    }\n",
       "\n",
       "    .dataframe thead th {\n",
       "        text-align: right;\n",
       "    }\n",
       "</style>\n",
       "<table border=\"1\" class=\"dataframe\">\n",
       "  <thead>\n",
       "    <tr style=\"text-align: right;\">\n",
       "      <th></th>\n",
       "      <th>meta</th>\n",
       "      <th>network</th>\n",
       "      <th>packet_hash</th>\n",
       "      <th>application</th>\n",
       "      <th>device_addr</th>\n",
       "      <th>time</th>\n",
       "      <th>device</th>\n",
       "      <th>packet_id</th>\n",
       "      <th>gateway</th>\n",
       "      <th>params</th>\n",
       "      <th>...</th>\n",
       "      <th>gateway</th>\n",
       "      <th>params</th>\n",
       "      <th>rx_time</th>\n",
       "      <th>payload</th>\n",
       "      <th>duplicate</th>\n",
       "      <th>counter_up</th>\n",
       "      <th>port</th>\n",
       "      <th>encrypted_payload</th>\n",
       "      <th>id</th>\n",
       "      <th>type</th>\n",
       "    </tr>\n",
       "  </thead>\n",
       "  <tbody>\n",
       "    <tr>\n",
       "      <th>1</th>\n",
       "      <td>{'network': '3e6238745fa947a8a59b76cc79892688'...</td>\n",
       "      <td>3e6238745fa947a8a59b76cc79892688</td>\n",
       "      <td>e18c8476cdfd2a6239275b01dcb75d18</td>\n",
       "      <td>1111111111111111</td>\n",
       "      <td>057c6568</td>\n",
       "      <td>1693936986.675</td>\n",
       "      <td>0080e115057c6568</td>\n",
       "      <td>f8206cff3495bf59aa01ac529526f24a</td>\n",
       "      <td>80029cd8f1310000</td>\n",
       "      <td>{'rx_time': 1693936986.6587527, 'payload': 'CA...</td>\n",
       "      <td>...</td>\n",
       "      <td>5813d34d94e20000</td>\n",
       "      <td>{'rx_time': 1693937162.0143301, 'payload': 'Ao...</td>\n",
       "      <td>1693937162.01433</td>\n",
       "      <td>AoADAAA1GAYCeCNkXRE=</td>\n",
       "      <td>False</td>\n",
       "      <td>1</td>\n",
       "      <td>3</td>\n",
       "      <td>lGlicncqHsQk9xSzjOM=</td>\n",
       "      <td>1693937162032-3</td>\n",
       "      <td>uplink</td>\n",
       "    </tr>\n",
       "  </tbody>\n",
       "</table>\n",
       "<p>1 rows × 89 columns</p>\n",
       "</div>"
      ],
      "text/plain": [
       "0                                               meta  \\\n",
       "1  {'network': '3e6238745fa947a8a59b76cc79892688'...   \n",
       "\n",
       "0                           network                       packet_hash  \\\n",
       "1  3e6238745fa947a8a59b76cc79892688  e18c8476cdfd2a6239275b01dcb75d18   \n",
       "\n",
       "0       application device_addr            time            device  \\\n",
       "1  1111111111111111    057c6568  1693936986.675  0080e115057c6568   \n",
       "\n",
       "0                         packet_id           gateway  \\\n",
       "1  f8206cff3495bf59aa01ac529526f24a  80029cd8f1310000   \n",
       "\n",
       "0                                             params  ...           gateway  \\\n",
       "1  {'rx_time': 1693936986.6587527, 'payload': 'CA...  ...  5813d34d94e20000   \n",
       "\n",
       "0                                             params           rx_time  \\\n",
       "1  {'rx_time': 1693937162.0143301, 'payload': 'Ao...  1693937162.01433   \n",
       "\n",
       "0               payload duplicate counter_up port     encrypted_payload  \\\n",
       "1  AoADAAA1GAYCeCNkXRE=     False          1    3  lGlicncqHsQk9xSzjOM=   \n",
       "\n",
       "0               id    type  \n",
       "1  1693937162032-3  uplink  \n",
       "\n",
       "[1 rows x 89 columns]"
      ]
     },
     "execution_count": 9,
     "metadata": {},
     "output_type": "execute_result"
    }
   ],
   "source": [
    "df.transpose()"
   ]
  }
 ],
 "metadata": {
  "kernelspec": {
   "display_name": "Python 3",
   "language": "python",
   "name": "python3"
  },
  "language_info": {
   "codemirror_mode": {
    "name": "ipython",
    "version": 3
   },
   "file_extension": ".py",
   "mimetype": "text/x-python",
   "name": "python",
   "nbconvert_exporter": "python",
   "pygments_lexer": "ipython3",
   "version": "3.11.5"
  },
  "orig_nbformat": 4
 },
 "nbformat": 4,
 "nbformat_minor": 2
}
